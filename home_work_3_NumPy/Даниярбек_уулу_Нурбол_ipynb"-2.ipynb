{
  "nbformat": 4,
  "nbformat_minor": 0,
  "metadata": {
    "colab": {
      "provenance": [],
      "toc_visible": true,
      "collapsed_sections": []
    },
    "kernelspec": {
      "name": "python3",
      "display_name": "Python 3"
    },
    "language_info": {
      "name": "python"
    }
  },
  "cells": [
    {
      "cell_type": "markdown",
      "source": [
        "# Вариант 1."
      ],
      "metadata": {
        "id": "uUb0k51-4ZT5"
      }
    },
    {
      "cell_type": "markdown",
      "source": [
        "Кто делает:\n",
        "1. Анохин Георгий Александрович\n",
        "2. Георгиев Денис Дмитриевич \n",
        "3. Горячев Иван Сергеевич\n",
        "4. Даниярбек уулу Нурбол"
      ],
      "metadata": {
        "id": "jYTf6002M_nQ"
      }
    },
    {
      "cell_type": "markdown",
      "source": [
        "**Задача 1.**\n",
        "\n",
        "**1-я входная строка** - год (опционально месяц и день) в формате ISO начала отсчёта.\n",
        "\n",
        "**2-я входная строка** - год (опционально месяц и день) в формате ISO окончания отсчёта.\n",
        "\n",
        "Создайте функцию, которая принимает на вход два введенных года и возвращает список (numpy array) дат с шагом в 1 день от начала до окончания отсчёта (последний день не включается).\n",
        "\n",
        "Результат должен представлять из себя список дат в формате ISO.\n",
        "Пример - 2005-02-25, где\n",
        "\n",
        "- 2005 - год\n",
        "- 02 - месяц\n",
        "- 25 - день"
      ],
      "metadata": {
        "id": "nqParwpl4NYQ"
      }
    },
    {
      "cell_type": "code",
      "source": [
        "import numpy as np\n",
        "import datetime as dt\n",
        "\n",
        "date1 = list(map(int, input().split('-')))\n",
        "date2 = list(map(int, input().split('-')))\n",
        "\n",
        "def fun(date1, date2):\n",
        "  date1 = dt.date(year=date1[0], month=date1[1], day=date1[2])\n",
        "  date2 = dt.date(year=date2[0], month=date2[1], day=date2[2])\n",
        "  step = dt.timedelta(days=1)\n",
        "  return np.arange(date1, date2, step).astype('M8[D]')\n",
        "\n",
        "print(fun(date1, date2))\n"
      ],
      "metadata": {
        "id": "qVPXjYIX4CCT",
        "colab": {
          "base_uri": "https://localhost:8080/"
        },
        "outputId": "2d6cc2b6-1a51-4aed-e815-8fe504ff1df4"
      },
      "execution_count": null,
      "outputs": [
        {
          "output_type": "stream",
          "name": "stdout",
          "text": [
            "2022-10-10\n",
            "2022-10-25\n",
            "['2022-10-10' '2022-10-11' '2022-10-12' '2022-10-13' '2022-10-14'\n",
            " '2022-10-15' '2022-10-16' '2022-10-17' '2022-10-18' '2022-10-19'\n",
            " '2022-10-20' '2022-10-21' '2022-10-22' '2022-10-23' '2022-10-24']\n"
          ]
        }
      ]
    },
    {
      "cell_type": "markdown",
      "source": [
        "**Задача 2.**\n",
        "\n",
        "Используя numpy:\n",
        "\n",
        "Создайте функцию, которая принимает как аргументы целое число N и первый элемент (вещественное число el1), и разность (вещественное число d) и создает матрицу по диагонали, которой распологаются первые N членов арифметической прогрессии."
      ],
      "metadata": {
        "id": "dlfakURs8vgB"
      }
    },
    {
      "cell_type": "code",
      "source": [
        "import numpy as np\n",
        "\n",
        "def alPr(N: int, el1: float, d: float):\n",
        "  q = np.zeros((N, N), dtype=float)\n",
        "  np.fill_diagonal(q, [el1 + d * i for i in range(N)])\n",
        "  return q\n",
        "\n",
        "alPr(5,0,1)"
      ],
      "metadata": {
        "id": "-9XxOXYc8zNv",
        "colab": {
          "base_uri": "https://localhost:8080/"
        },
        "outputId": "f7fbb238-da2d-4fce-f70c-ebbaf91609e9"
      },
      "execution_count": null,
      "outputs": [
        {
          "output_type": "execute_result",
          "data": {
            "text/plain": [
              "array([[0., 0., 0., 0., 0.],\n",
              "       [0., 1., 0., 0., 0.],\n",
              "       [0., 0., 2., 0., 0.],\n",
              "       [0., 0., 0., 3., 0.],\n",
              "       [0., 0., 0., 0., 4.]])"
            ]
          },
          "metadata": {},
          "execution_count": 3
        }
      ]
    },
    {
      "cell_type": "markdown",
      "source": [
        "**Задача 3.**\n",
        "\n",
        "Дан массив. Создайте функцию, которая принимает данный массив и проверяет наличие пропусков и возвращает их количество:\n",
        "- если есть пропуски, то функция должна их заполнить теми значениями, которые пользователь вводит с клавиатуры.\n",
        "- если нет пропусков, то функция возвращает 0.\n",
        "\n",
        "*Встроенные функции заполнения пропусков использовать запрещено.*"
      ],
      "metadata": {
        "id": "b0BomVhGCrZ-"
      }
    },
    {
      "cell_type": "code",
      "source": [
        "\n",
        "def fun(ar: list):\n",
        "  was = False\n",
        "  count = 0\n",
        "  for i in range(len(ar)):\n",
        "    warnings = True\n",
        "    if (ar[i] == None):\n",
        "      print(f\"пропуск в {i}\")\n",
        "      count += 1\n",
        "      ar[i] = input()\n",
        "  if count <= 0:\n",
        "    return 0\n",
        "  else: return \"всего пропусков \" + str(count)\n",
        "\n",
        "fun([None, 1, 2, 3, 4, None])\n"
      ],
      "metadata": {
        "id": "ltuxQwBPDeeN",
        "colab": {
          "base_uri": "https://localhost:8080/",
          "height": 105
        },
        "outputId": "42dbfc52-df58-4de9-c607-14e9ef21355b"
      },
      "execution_count": null,
      "outputs": [
        {
          "name": "stdout",
          "output_type": "stream",
          "text": [
            "пропуск в 0\n",
            "0\n",
            "пропуск в 5\n",
            "5\n"
          ]
        },
        {
          "output_type": "execute_result",
          "data": {
            "text/plain": [
              "'всего пропусков 2'"
            ],
            "application/vnd.google.colaboratory.intrinsic+json": {
              "type": "string"
            }
          },
          "metadata": {},
          "execution_count": 4
        }
      ]
    },
    {
      "cell_type": "markdown",
      "source": [
        "**Задача 4.**\n",
        "\n",
        "Вам дан массив, содержащий категории некоторого объекта в виде строк.\n",
        "\n",
        "Создайте функцию, которая принимает на вход массив, хранящий категории объектов и возвращает:\n",
        "- закодированный список из чисел, где каждому числу соответсвует какая-то категория;\n",
        "- число категорий;\n",
        "- словарь кодирования;\n",
        "\n",
        "**Например:**\n",
        "\n",
        "Ввод:\n",
        "\n",
        "`('red', 'green', 'red', 'blue')`\n",
        "\n",
        "Вывод:\n",
        "```(0, 1, 0, 2)\n",
        "Количество категорий: 3\n",
        "Словарь кодирования: \n",
        "{'red': 0, 'green': 1, 'blue': 2'}\n",
        "```"
      ],
      "metadata": {
        "id": "yGQxrCpbD0S6"
      }
    },
    {
      "cell_type": "markdown",
      "source": [
        "*P.s. встроенными функциями кодирования пользоваться запрещено.*"
      ],
      "metadata": {
        "id": "_KAq5aHVFQ24"
      }
    },
    {
      "cell_type": "code",
      "source": [
        "def fun(ar: list):\n",
        "  kk = list(set(ar))\n",
        "  sk = {kk[i]: i for i in range(len(kk))}\n",
        "  print([sk[j] for j in ar])\n",
        "  print(f\"Количество категорий: {len(kk)}\")\n",
        "  print(\"Словарь кодирования: \" + str(sk))\n",
        "\n",
        "fun(['red', 'blue', 'red', 'green', 'blue', 'red'])\n"
      ],
      "metadata": {
        "id": "5SA-uo30FMzs",
        "colab": {
          "base_uri": "https://localhost:8080/"
        },
        "outputId": "6ea11f8b-3504-4997-9bed-60b03a16ed0b"
      },
      "execution_count": null,
      "outputs": [
        {
          "output_type": "stream",
          "name": "stdout",
          "text": [
            "[1, 0, 1, 2, 0, 1]\n",
            "Количество категорий: 3\n",
            "Словарь кодирования: {'blue': 0, 'red': 1, 'green': 2}\n"
          ]
        }
      ]
    }
  ]
}